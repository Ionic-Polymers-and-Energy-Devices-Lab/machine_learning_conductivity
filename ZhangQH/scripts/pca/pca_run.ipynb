{
 "cells": [
  {
   "cell_type": "code",
   "execution_count": 20,
   "metadata": {},
   "outputs": [],
   "source": [
    "import os\n",
    "import pandas as pd\n",
    "import sys\n",
    "sys.path.append(\"../../lib\")\n",
    "from pca import PCAModel\n",
    "from utils import min_max_scale\n",
    "\n",
    "# Path to the raw data\n",
    "csv = \"../../database/new_data6.csv\"\n",
    "# Base path to results directory\n",
    "results = \"../../results/pca4\"\n",
    "\n",
    "# Columns in the data set to use for PCA\n",
    "process = ['E(HOMO)', 'E(LUMO)', 'He8_steric', 'PA', 'Q(Pd)', 'BE(Pd)',\n",
    "           'Pd-Cl trans', 'P-Pd', 'DP-A(Pd)', 'DA-P-A(Pd)', 'BDE1', 'BDE2', 'BDE3',\n",
    "           'COMP1', 'DIM1', 'REORG1', 'REDOX1', 'REDOX2', 'REDOX3', 'REDOX4',\n",
    "           'A_NBO_P', 'B_NBO_Pd', 'B_NBO_P', 'B_LENGTH_Pd_P', 'B_B1', 'B_lval',\n",
    "           'B_newB5', 'C_NBO_Pd', 'C_NBO_P', 'C_LENGTH_Pd_P', 'C_ANGLE_P_Pd_P',\n",
    "           'D_NBO_Pd', 'D_NBO_P', 'D_LENGTH_Pd_P', 'D_LENGTH_Pd_Pd',\n",
    "           'D_ANGLE_P_Pd_P', 'D_ORDER_Pd_Pd', 'E_NBO_Pd', 'E_NBO_P',\n",
    "           'E_LENGTH_Pd_P', 'E_ANGLE_I_Pd_I', 'F_NBO_Pd', 'F_NBO_P',\n",
    "           'F_LENGTH_Pd_P', 'F_ANGLE_P_Pd_P', 'F_ANGLE_I_Pd_I', 'G_NBO_Pd',\n",
    "           'G_NBO_P', 'G_LENGTH_Pd_P', 'G_LENGTH_Pd_Pd', 'G_TORSION_Pd_I_I_Pd',\n",
    "           'G_ORDER_Pd_Pd']\n",
    "\n",
    "# Columns in the data set to exclude from PCA\n",
    "drop = [\"SMILES\", \"RDKit_Mol_Class\",\"Degradation(%)\"]\n",
    "\n",
    "\n",
    "# Read the raw data\n",
    "dimer = pd.read_csv(csv, index_col=0)\n",
    "\n",
    "# Data processing\n",
    "#X = dimer.drop(columns=drop)\n",
    "X=dimer.iloc[:, 2:]\n",
    "median_raw_data=X.median()\n",
    "dict_median_raw_data=median_raw_data.to_dict()\n",
    "data=X.fillna(dict_median_raw_data)\n",
    "X = min_max_scale(data)\n",
    "#X = min_max_scale(X)\n",
    "\n",
    "# Run PCA\n",
    "model = PCAModel(X=X, n=4, rs=1)\n",
    "\n",
    "# Save the results\n",
    "model.pcs.to_csv(os.path.join(results, \"pcs.csv\"))\n",
    "model.load.to_csv(os.path.join(results, \"loadings.csv\"))\n",
    "model.summary.to_csv(os.path.join(results, \"summary.csv\"))\n",
    "\n"
   ]
  },
  {
   "cell_type": "code",
   "execution_count": null,
   "metadata": {},
   "outputs": [],
   "source": []
  },
  {
   "cell_type": "code",
   "execution_count": null,
   "metadata": {},
   "outputs": [],
   "source": []
  }
 ],
 "metadata": {
  "kernelspec": {
   "display_name": "tf21",
   "language": "python",
   "name": "tf21"
  },
  "language_info": {
   "codemirror_mode": {
    "name": "ipython",
    "version": 3
   },
   "file_extension": ".py",
   "mimetype": "text/x-python",
   "name": "python",
   "nbconvert_exporter": "python",
   "pygments_lexer": "ipython3",
   "version": "3.7.10"
  }
 },
 "nbformat": 4,
 "nbformat_minor": 4
}
