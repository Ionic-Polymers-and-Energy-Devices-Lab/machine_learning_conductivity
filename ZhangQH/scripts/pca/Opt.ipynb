{
 "cells": [
  {
   "cell_type": "code",
   "execution_count": 1,
   "metadata": {},
   "outputs": [
    {
     "name": "stderr",
     "output_type": "stream",
     "text": [
      "100%|█████████████████████████████████████████████████████████████████████████████| 13/13 [20:04:52<00:00, 5560.99s/it]\n"
     ]
    }
   ],
   "source": [
    "import os\n",
    "import pandas as pd\n",
    "import sys\n",
    "sys.path.append(\"../../lib\")\n",
    "from kmeans import KMeansModel\n",
    "from utils import standard_scale\n",
    "\n",
    "# Path to the raw data\n",
    "csv = \"../../data/database.csv\"\n",
    "# Base path to results directory\n",
    "results = \"../../results/initial/opt\"\n",
    "\n",
    "# Columns in the data set to use for clustering\n",
    "process = ['E(HOMO)', 'E(LUMO)', 'He8_steric', 'PA', 'Q(B)', 'BE(B)', 'P-B', 'DP-A(B)', 'DA-P-A(B)', 'Q(Au)', 'BE(Au)',\n",
    "           'Au-Cl', 'Au-P', 'DP-A(Au)', 'DA-P-A(Au)', 'Q(Pd)', 'BE(Pd)', 'Pd-Cl trans', 'P-Pd', 'DP-A(Pd)',\n",
    "           'DA-P-A(Pd)', 'Q(Pt)', 'BE(Pt)', 'P-Pt', 'DP-A(Pt)', 'DA-P-A(Pt)', '<(H3P)Pt(PH3)', \"S4'\"]\n",
    "# Columns in the data set to exclude from clustering\n",
    "drop = [\"SMILES\", \"RDKit_Mol_Class\",\"Degradation(%)\"]\n",
    "\n",
    "# Read the raw data\n",
    "lkb = pd.read_csv(csv, index_col=0)\n",
    "\n",
    "# Data processing\n",
    "X = lkb.drop(columns=drop)\n",
    "X = standard_scale(X)\n",
    "\n",
    "# Initialize the model\n",
    "model = KMeansModel(X=X, k=8, rs=1)\n",
    "\n",
    "# Run the optimization and get metrics, clusters and per sample silhouette scores for each value of k\n",
    "metrics, clusters, sil_samples = model.opt(ks=range(2, 15))\n",
    "\n",
    "# Save the results as csv files\n",
    "metrics.to_csv(os.path.join(results, \"metrics.csv\"), sep=\";\")\n",
    "clusters.to_csv(os.path.join(results, \"clusters.csv\"), sep=\";\")\n",
    "sil_samples.to_csv(os.path.join(results, \"sil_samples.csv\"), sep=\";\")"
   ]
  },
  {
   "cell_type": "code",
   "execution_count": null,
   "metadata": {},
   "outputs": [],
   "source": []
  }
 ],
 "metadata": {
  "kernelspec": {
   "display_name": "tf21",
   "language": "python",
   "name": "tf21"
  },
  "language_info": {
   "codemirror_mode": {
    "name": "ipython",
    "version": 3
   },
   "file_extension": ".py",
   "mimetype": "text/x-python",
   "name": "python",
   "nbconvert_exporter": "python",
   "pygments_lexer": "ipython3",
   "version": "3.7.10"
  }
 },
 "nbformat": 4,
 "nbformat_minor": 4
}
